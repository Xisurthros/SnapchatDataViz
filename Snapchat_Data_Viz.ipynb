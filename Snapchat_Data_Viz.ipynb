{
  "cells": [
    {
      "cell_type": "code",
      "source": [
        "# Vizualization of my personal Snapchat Chat data."
      ],
      "metadata": {
        "id": "jdMZnP5EZFTQ"
      },
      "execution_count": 7,
      "outputs": []
    },
    {
      "cell_type": "code",
      "source": [
        "import json\n",
        "import matplotlib.pyplot as plt"
      ],
      "metadata": {
        "id": "V8ud4nbFZzsu"
      },
      "execution_count": 8,
      "outputs": []
    },
    {
      "cell_type": "code",
      "source": [
        "with open('/content/chat_history.json') as json_file:\n",
        "  data = json.load(json_file)"
      ],
      "metadata": {
        "id": "0sg8GV5bZ1qw"
      },
      "execution_count": 9,
      "outputs": []
    },
    {
      "cell_type": "code",
      "source": [
        "# Get all users from 'Received Saved Chat History'\n",
        "\n",
        "# Create dict for easier processing later on\n",
        "receivedFromUsers = {}\n",
        "for message in data['Received Saved Chat History']:\n",
        "\tif message[\"From\"] in receivedFromUsers:\n",
        "\t\tpass\n",
        "\telse:\n",
        "\t\treceivedFromUsers[message[\"From\"]] = 0\n",
        "\n",
        "# Not printed for user privace upon display\n",
        "#print(receivedFromUsers)"
      ],
      "metadata": {
        "id": "96jJPSIsaX45"
      },
      "execution_count": 10,
      "outputs": []
    },
    {
      "cell_type": "code",
      "source": [
        "# Get num of received message from each user\n",
        "x = 0\n",
        "for user in receivedFromUsers:\n",
        "\tfor message in data['Received Saved Chat History']:\n",
        "\t\tif message[\"From\"] == user:\n",
        "\t\t\treceivedFromUsers[user] += 1\n",
        "\tx = 0\n",
        "\n",
        "# Not printed for user privace upon display\n",
        "#print(receivedFromUsers)"
      ],
      "metadata": {
        "id": "PYEBOPsjbHTy"
      },
      "execution_count": 11,
      "outputs": []
    },
    {
      "cell_type": "code",
      "source": [
        "# Change usernames for privacy\n",
        "\n",
        "x = 0\n",
        "receivedFromUsersCleaned = {}\n",
        "for user in receivedFromUsers:\n",
        "  receivedFromUsersCleaned[f'user{x}'] = receivedFromUsers[user]\n",
        "  x+=1\n",
        "\n",
        "# Compare to make sure values from each list are equal\n",
        "prePrivacy = sorted(receivedFromUsers.values())\n",
        "postPrivacy = sorted(receivedFromUsersCleaned.values())\n",
        "print(prePrivacy)\n",
        "print(postPrivacy)"
      ],
      "metadata": {
        "id": "4V8oIKP5mT_O",
        "outputId": "31f4ab09-eb5c-4073-8cb7-41439046350e",
        "colab": {
          "base_uri": "https://localhost:8080/"
        }
      },
      "execution_count": 12,
      "outputs": [
        {
          "output_type": "stream",
          "name": "stdout",
          "text": [
            "[1, 1, 2, 2, 2, 3, 3, 3, 4, 4, 5, 5, 5, 6, 6, 7, 7, 9, 10, 10, 11, 11, 12, 15, 21, 21, 21, 23, 27, 30, 31, 34, 34, 41, 52, 56, 65, 83, 84, 94, 101, 118, 132, 193, 406, 474, 1201, 1417, 1558, 182511]\n",
            "[1, 1, 2, 2, 2, 3, 3, 3, 4, 4, 5, 5, 5, 6, 6, 7, 7, 9, 10, 10, 11, 11, 12, 15, 21, 21, 21, 23, 27, 30, 31, 34, 34, 41, 52, 56, 65, 83, 84, 94, 101, 118, 132, 193, 406, 474, 1201, 1417, 1558, 182511]\n"
          ]
        }
      ]
    },
    {
      "cell_type": "code",
      "source": [
        "# Vizualize all chats received\n",
        "\n",
        "data = dict(sorted(receivedFromUsersCleaned.items(), key=lambda item: item[1]))\n",
        "plt.bar(range(len(data)), list(sorted(data.values())), align='center')\n",
        "plt.xlabel('user') \n",
        "plt.ylabel('num of messages')\n",
        "plt.title(\"Linear graph of received messages\")\n",
        "\n",
        "plt.xticks(range(len(data)), list(data.keys()), rotation = 90)\n",
        "\n",
        "plt.show()\n",
        "print(data)"
      ],
      "metadata": {
        "id": "TdCfwWQ1g7mj",
        "outputId": "d0253ea7-e250-4f44-83d2-73e7ef21708e",
        "colab": {
          "base_uri": "https://localhost:8080/",
          "height": 357
        }
      },
      "execution_count": 13,
      "outputs": [
        {
          "output_type": "display_data",
          "data": {
            "text/plain": [
              "<Figure size 432x288 with 1 Axes>"
            ],
            "image/png": "[encoded data removed]"
          },
          "metadata": {
            "needs_background": "light"
          }
        },
        {
          "output_type": "stream",
          "name": "stdout",
          "text": [
            "{'user27': 1, 'user36': 1, 'user7': 2, 'user10': 2, 'user49': 2, 'user32': 3, 'user34': 3, 'user41': 3, 'user3': 4, 'user43': 4, 'user38': 5, 'user42': 5, 'user45': 5, 'user21': 6, 'user35': 6, 'user22': 7, 'user37': 7, 'user30': 9, 'user18': 10, 'user40': 10, 'user39': 11, 'user46': 11, 'user2': 12, 'user1': 15, 'user15': 21, 'user23': 21, 'user33': 21, 'user24': 23, 'user0': 27, 'user11': 30, 'user25': 31, 'user8': 34, 'user17': 34, 'user19': 41, 'user44': 52, 'user9': 56, 'user47': 65, 'user48': 83, 'user13': 84, 'user28': 94, 'user31': 101, 'user26': 118, 'user5': 132, 'user20': 193, 'user16': 406, 'user29': 474, 'user6': 1201, 'user4': 1417, 'user14': 1558, 'user12': 182511}\n"
          ]
        }
      ]
    },
    {
      "cell_type": "code",
      "source": [
        "# As you can see user 12 is greatly distorting our graph\n",
        "# To fix this we will remove user 12\n",
        "receivedFromUsersCleaned.pop('user12')"
      ],
      "metadata": {
        "id": "hekNsRF4rBTE",
        "outputId": "eaadf5f3-5a56-4616-d357-00a6b004db9d",
        "colab": {
          "base_uri": "https://localhost:8080/"
        }
      },
      "execution_count": 14,
      "outputs": [
        {
          "output_type": "execute_result",
          "data": {
            "text/plain": [
              "182511"
            ]
          },
          "metadata": {},
          "execution_count": 14
        }
      ]
    },
    {
      "cell_type": "code",
      "source": [
        "# Vizualize all chats received without user 10\n",
        "data = dict(sorted(receivedFromUsersCleaned.items(), key=lambda item: item[1]))\n",
        "plt.bar(range(len(data)), list(sorted(data.values())), align='center')\n",
        "plt.xlabel('user') \n",
        "plt.ylabel('num of messages')\n",
        "plt.title(\"Linear graph of received messages\")\n",
        "\n",
        "plt.xticks(range(len(data)), list(data.keys()), rotation = 90)\n",
        "\n",
        "plt.show()\n",
        "print(data)"
      ],
      "metadata": {
        "id": "aYYMzotGrGfd",
        "outputId": "0e4906f9-f58f-4c41-885b-6089d890fe71",
        "colab": {
          "base_uri": "https://localhost:8080/",
          "height": 357
        }
      },
      "execution_count": 15,
      "outputs": [
        {
          "output_type": "display_data",
          "data": {
            "text/plain": [
              "<Figure size 432x288 with 1 Axes>"
            ],
            "image/png": "[encoded data removed]"
          },
          "metadata": {
            "needs_background": "light"
          }
        },
        {
          "output_type": "stream",
          "name": "stdout",
          "text": [
            "{'user27': 1, 'user36': 1, 'user7': 2, 'user10': 2, 'user49': 2, 'user32': 3, 'user34': 3, 'user41': 3, 'user3': 4, 'user43': 4, 'user38': 5, 'user42': 5, 'user45': 5, 'user21': 6, 'user35': 6, 'user22': 7, 'user37': 7, 'user30': 9, 'user18': 10, 'user40': 10, 'user39': 11, 'user46': 11, 'user2': 12, 'user1': 15, 'user15': 21, 'user23': 21, 'user33': 21, 'user24': 23, 'user0': 27, 'user11': 30, 'user25': 31, 'user8': 34, 'user17': 34, 'user19': 41, 'user44': 52, 'user9': 56, 'user47': 65, 'user48': 83, 'user13': 84, 'user28': 94, 'user31': 101, 'user26': 118, 'user5': 132, 'user20': 193, 'user16': 406, 'user29': 474, 'user6': 1201, 'user4': 1417, 'user14': 1558}\n"
          ]
        }
      ]
    },
    {
      "cell_type": "code",
      "source": [
        "# As you can see this is way easier to look at.\n",
        "## At user21 we are able to see bars appear on out graph.\n",
        "## user21 has a value of 6. I want to remove an user with 5 messages and below \n",
        "\n",
        "receivedFromUsersCleaned = {key:val for key, val in receivedFromUsersCleaned.items() if val > 5}\n",
        "data = dict(sorted(receivedFromUsersCleaned.items(), key=lambda item: item[1]))\n",
        "print(data)"
      ],
      "metadata": {
        "id": "f61wT2B6s8BC",
        "outputId": "cdc688df-afc6-481c-e3a1-c6565f4a28c9",
        "colab": {
          "base_uri": "https://localhost:8080/"
        }
      },
      "execution_count": 16,
      "outputs": [
        {
          "output_type": "stream",
          "name": "stdout",
          "text": [
            "{'user21': 6, 'user35': 6, 'user22': 7, 'user37': 7, 'user30': 9, 'user18': 10, 'user40': 10, 'user39': 11, 'user46': 11, 'user2': 12, 'user1': 15, 'user15': 21, 'user23': 21, 'user33': 21, 'user24': 23, 'user0': 27, 'user11': 30, 'user25': 31, 'user8': 34, 'user17': 34, 'user19': 41, 'user44': 52, 'user9': 56, 'user47': 65, 'user48': 83, 'user13': 84, 'user28': 94, 'user31': 101, 'user26': 118, 'user5': 132, 'user20': 193, 'user16': 406, 'user29': 474, 'user6': 1201, 'user4': 1417, 'user14': 1558}\n"
          ]
        }
      ]
    },
    {
      "cell_type": "code",
      "source": [
        "# Vizualize all chats received without user 10 and values greater than 5\n",
        "plt.bar(range(len(data)), list(sorted(data.values())), align='center')\n",
        "plt.xlabel('user') \n",
        "plt.ylabel('num of messages')\n",
        "plt.title(\"Linear graph of received messages\")\n",
        "\n",
        "plt.xticks(range(len(data)), list(data.keys()), rotation = 90)\n",
        "\n",
        "plt.show()\n",
        "print(data)"
      ],
      "metadata": {
        "id": "73P-evS_t6Cx",
        "outputId": "e7d8c112-4330-4b22-f39d-f3a648b7e2ff",
        "colab": {
          "base_uri": "https://localhost:8080/",
          "height": 357
        }
      },
      "execution_count": 17,
      "outputs": [
        {
          "output_type": "display_data",
          "data": {
            "text/plain": [
              "<Figure size 432x288 with 1 Axes>"
            ],
            "image/png": "[encoded data removed]"
          },
          "metadata": {
            "needs_background": "light"
          }
        },
        {
          "output_type": "stream",
          "name": "stdout",
          "text": [
            "{'user21': 6, 'user35': 6, 'user22': 7, 'user37': 7, 'user30': 9, 'user18': 10, 'user40': 10, 'user39': 11, 'user46': 11, 'user2': 12, 'user1': 15, 'user15': 21, 'user23': 21, 'user33': 21, 'user24': 23, 'user0': 27, 'user11': 30, 'user25': 31, 'user8': 34, 'user17': 34, 'user19': 41, 'user44': 52, 'user9': 56, 'user47': 65, 'user48': 83, 'user13': 84, 'user28': 94, 'user31': 101, 'user26': 118, 'user5': 132, 'user20': 193, 'user16': 406, 'user29': 474, 'user6': 1201, 'user4': 1417, 'user14': 1558}\n"
          ]
        }
      ]
    }
  ],
  "metadata": {
    "colab": {
      "collapsed_sections": [],
      "provenance": []
    },
    "kernelspec": {
      "display_name": "Python 3",
      "name": "python3"
    }
  },
  "nbformat": 4,
  "nbformat_minor": 0
}