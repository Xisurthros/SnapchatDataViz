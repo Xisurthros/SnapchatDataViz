{
  "cells": [
    {
      "cell_type": "markdown",
      "source": [
        "# Visualization of my Snapchat conversation history."
      ],
      "metadata": {
        "id": "c7UX40HfNYAd"
      }
    },
    {
      "cell_type": "code",
      "source": [
        "import json\n",
        "import numpy as np\n",
        "import pandas as pd\n",
        "import matplotlib.pyplot as plt"
      ],
      "metadata": {
        "id": "V8ud4nbFZzsu"
      },
      "execution_count": 1,
      "outputs": []
    },
    {
      "cell_type": "code",
      "source": [
        "with open('/content/chat_history.json') as json_file:\n",
        "  data = json.load(json_file)"
      ],
      "metadata": {
        "id": "0sg8GV5bZ1qw"
      },
      "execution_count": 2,
      "outputs": []
    },
    {
      "cell_type": "code",
      "source": [
        "# Get all items in dataset\n",
        "for item in data:\n",
        "  print(item)"
      ],
      "metadata": {
        "colab": {
          "base_uri": "https://localhost:8080/"
        },
        "id": "8vuikzE1LkPi",
        "outputId": "ba0daf29-ff8b-4871-fa08-b89119e9827a"
      },
      "execution_count": 3,
      "outputs": [
        {
          "output_type": "stream",
          "name": "stdout",
          "text": [
            "Received Saved Chat History\n",
            "Sent Saved Chat History\n",
            "Received Unsaved Chat History\n",
            "Sent Unsaved Chat History\n"
          ]
        }
      ]
    },
    {
      "cell_type": "markdown",
      "source": [
        "# We are going to start with received chat history."
      ],
      "metadata": {
        "id": "7U4VuQG6NBZL"
      }
    },
    {
      "cell_type": "code",
      "source": [
        "# Combine saved and unsave chat into one larger data frame\n",
        "#   for complete received chat histroy\n",
        "dfReceived = pd.DataFrame(data['Received Saved Chat History'] + \n",
        "                  data['Received Unsaved Chat History'])"
      ],
      "metadata": {
        "id": "eYBqAt_5MHdJ"
      },
      "execution_count": 4,
      "outputs": []
    },
    {
      "cell_type": "code",
      "source": [
        "# Before showing data we will be doing some preprocessing"
      ],
      "metadata": {
        "id": "B_hZumO_YhGX"
      },
      "execution_count": 5,
      "outputs": []
    },
    {
      "cell_type": "code",
      "source": [
        "for col in dfReceived.columns:\n",
        "    print(col)"
      ],
      "metadata": {
        "colab": {
          "base_uri": "https://localhost:8080/"
        },
        "id": "tWCXfzk7ZA5Z",
        "outputId": "0fbd8777-8389-4e15-fd08-7a2034e6c38b"
      },
      "execution_count": 6,
      "outputs": [
        {
          "output_type": "stream",
          "name": "stdout",
          "text": [
            "From\n",
            "Media Type\n",
            "Created\n",
            "Text\n"
          ]
        }
      ]
    },
    {
      "cell_type": "markdown",
      "source": [
        "#### Preprocessing for privacy"
      ],
      "metadata": {
        "id": "T895UeToVRHk"
      }
    },
    {
      "cell_type": "code",
      "source": [
        "# Starting with 'From'\n",
        "\n",
        "users = []\n",
        "# Get all users in df['From']\n",
        "for user in dfReceived['From']:\n",
        "  if user in users:\n",
        "    pass\n",
        "  else:\n",
        "    users.append(user)\n",
        "#print(users)\n",
        "\n",
        "# Replace names for privacy\n",
        "x = 0\n",
        "for user in users:\n",
        "  dfReceived['From'].replace(user, f'user{x}', inplace=True)\n",
        "  x+=1\n",
        "\n",
        "# Now replace all messages in df['Text']\n",
        "dfReceived['Text'] = 'message'"
      ],
      "metadata": {
        "id": "MJxvrSxiUkfF"
      },
      "execution_count": 7,
      "outputs": []
    },
    {
      "cell_type": "code",
      "source": [
        "dfReceived.head()"
      ],
      "metadata": {
        "colab": {
          "base_uri": "https://localhost:8080/",
          "height": 206
        },
        "id": "8gI1avBYYvak",
        "outputId": "18a7e628-7fda-4297-d355-223529fbac9d"
      },
      "execution_count": 8,
      "outputs": [
        {
          "output_type": "execute_result",
          "data": {
            "text/plain": [
              "    From Media Type                  Created     Text\n",
              "0  user0       TEXT  2022-09-18 03:33:18 UTC  message\n",
              "1  user0       TEXT  2022-09-18 03:27:38 UTC  message\n",
              "2  user0       TEXT  2022-09-18 03:13:42 UTC  message\n",
              "3  user0       TEXT  2022-09-18 02:57:38 UTC  message\n",
              "4  user0       TEXT  2022-09-18 02:57:32 UTC  message"
            ],
            "text/html": [
              "\n",
              "  <div id=\"df-1a9a152f-c49f-43f5-946f-3a2a8808e5f5\">\n",
              "    <div class=\"colab-df-container\">\n",
              "      <div>\n",
              "<style scoped>\n",
              "    .dataframe tbody tr th:only-of-type {\n",
              "        vertical-align: middle;\n",
              "    }\n",
              "\n",
              "    .dataframe tbody tr th {\n",
              "        vertical-align: top;\n",
              "    }\n",
              "\n",
              "    .dataframe thead th {\n",
              "        text-align: right;\n",
              "    }\n",
              "</style>\n",
              "<table border=\"1\" class=\"dataframe\">\n",
              "  <thead>\n",
              "    <tr style=\"text-align: right;\">\n",
              "      <th></th>\n",
              "      <th>From</th>\n",
              "      <th>Media Type</th>\n",
              "      <th>Created</th>\n",
              "      <th>Text</th>\n",
              "    </tr>\n",
              "  </thead>\n",
              "  <tbody>\n",
              "    <tr>\n",
              "      <th>0</th>\n",
              "      <td>user0</td>\n",
              "      <td>TEXT</td>\n",
              "      <td>2022-09-18 03:33:18 UTC</td>\n",
              "      <td>message</td>\n",
              "    </tr>\n",
              "    <tr>\n",
              "      <th>1</th>\n",
              "      <td>user0</td>\n",
              "      <td>TEXT</td>\n",
              "      <td>2022-09-18 03:27:38 UTC</td>\n",
              "      <td>message</td>\n",
              "    </tr>\n",
              "    <tr>\n",
              "      <th>2</th>\n",
              "      <td>user0</td>\n",
              "      <td>TEXT</td>\n",
              "      <td>2022-09-18 03:13:42 UTC</td>\n",
              "      <td>message</td>\n",
              "    </tr>\n",
              "    <tr>\n",
              "      <th>3</th>\n",
              "      <td>user0</td>\n",
              "      <td>TEXT</td>\n",
              "      <td>2022-09-18 02:57:38 UTC</td>\n",
              "      <td>message</td>\n",
              "    </tr>\n",
              "    <tr>\n",
              "      <th>4</th>\n",
              "      <td>user0</td>\n",
              "      <td>TEXT</td>\n",
              "      <td>2022-09-18 02:57:32 UTC</td>\n",
              "      <td>message</td>\n",
              "    </tr>\n",
              "  </tbody>\n",
              "</table>\n",
              "</div>\n",
              "      <button class=\"colab-df-convert\" onclick=\"convertToInteractive('df-1a9a152f-c49f-43f5-946f-3a2a8808e5f5')\"\n",
              "              title=\"Convert this dataframe to an interactive table.\"\n",
              "              style=\"display:none;\">\n",
              "        \n",
              "  <svg xmlns=\"http://www.w3.org/2000/svg\" height=\"24px\"viewBox=\"0 0 24 24\"\n",
              "       width=\"24px\">\n",
              "    <path d=\"M0 0h24v24H0V0z\" fill=\"none\"/>\n",
              "    <path d=\"M18.56 5.44l.94 2.06.94-2.06 2.06-.94-2.06-.94-.94-2.06-.94 2.06-2.06.94zm-11 1L8.5 8.5l.94-2.06 2.06-.94-2.06-.94L8.5 2.5l-.94 2.06-2.06.94zm10 10l.94 2.06.94-2.06 2.06-.94-2.06-.94-.94-2.06-.94 2.06-2.06.94z\"/><path d=\"M17.41 7.96l-1.37-1.37c-.4-.4-.92-.59-1.43-.59-.52 0-1.04.2-1.43.59L10.3 9.45l-7.72 7.72c-.78.78-.78 2.05 0 2.83L4 21.41c.39.39.9.59 1.41.59.51 0 1.02-.2 1.41-.59l7.78-7.78 2.81-2.81c.8-.78.8-2.07 0-2.86zM5.41 20L4 18.59l7.72-7.72 1.47 1.35L5.41 20z\"/>\n",
              "  </svg>\n",
              "      </button>\n",
              "      \n",
              "  <style>\n",
              "    .colab-df-container {\n",
              "      display:flex;\n",
              "      flex-wrap:wrap;\n",
              "      gap: 12px;\n",
              "    }\n",
              "\n",
              "    .colab-df-convert {\n",
              "      background-color: #E8F0FE;\n",
              "      border: none;\n",
              "      border-radius: 50%;\n",
              "      cursor: pointer;\n",
              "      display: none;\n",
              "      fill: #1967D2;\n",
              "      height: 32px;\n",
              "      padding: 0 0 0 0;\n",
              "      width: 32px;\n",
              "    }\n",
              "\n",
              "    .colab-df-convert:hover {\n",
              "      background-color: #E2EBFA;\n",
              "      box-shadow: 0px 1px 2px rgba(60, 64, 67, 0.3), 0px 1px 3px 1px rgba(60, 64, 67, 0.15);\n",
              "      fill: #174EA6;\n",
              "    }\n",
              "\n",
              "    [theme=dark] .colab-df-convert {\n",
              "      background-color: #3B4455;\n",
              "      fill: #D2E3FC;\n",
              "    }\n",
              "\n",
              "    [theme=dark] .colab-df-convert:hover {\n",
              "      background-color: #434B5C;\n",
              "      box-shadow: 0px 1px 3px 1px rgba(0, 0, 0, 0.15);\n",
              "      filter: drop-shadow(0px 1px 2px rgba(0, 0, 0, 0.3));\n",
              "      fill: #FFFFFF;\n",
              "    }\n",
              "  </style>\n",
              "\n",
              "      <script>\n",
              "        const buttonEl =\n",
              "          document.querySelector('#df-1a9a152f-c49f-43f5-946f-3a2a8808e5f5 button.colab-df-convert');\n",
              "        buttonEl.style.display =\n",
              "          google.colab.kernel.accessAllowed ? 'block' : 'none';\n",
              "\n",
              "        async function convertToInteractive(key) {\n",
              "          const element = document.querySelector('#df-1a9a152f-c49f-43f5-946f-3a2a8808e5f5');\n",
              "          const dataTable =\n",
              "            await google.colab.kernel.invokeFunction('convertToInteractive',\n",
              "                                                     [key], {});\n",
              "          if (!dataTable) return;\n",
              "\n",
              "          const docLinkHtml = 'Like what you see? Visit the ' +\n",
              "            '<a target=\"_blank\" href=https://colab.research.google.com/notebooks/data_table.ipynb>data table notebook</a>'\n",
              "            + ' to learn more about interactive tables.';\n",
              "          element.innerHTML = '';\n",
              "          dataTable['output_type'] = 'display_data';\n",
              "          await google.colab.output.renderOutput(dataTable, element);\n",
              "          const docLink = document.createElement('div');\n",
              "          docLink.innerHTML = docLinkHtml;\n",
              "          element.appendChild(docLink);\n",
              "        }\n",
              "      </script>\n",
              "    </div>\n",
              "  </div>\n",
              "  "
            ]
          },
          "metadata": {},
          "execution_count": 8
        }
      ]
    },
    {
      "cell_type": "code",
      "source": [
        "dfReceived.describe()"
      ],
      "metadata": {
        "colab": {
          "base_uri": "https://localhost:8080/",
          "height": 175
        },
        "id": "EWa84aQecq-F",
        "outputId": "aa8f18db-3443-400b-a74b-03f24fe9397c"
      },
      "execution_count": 9,
      "outputs": [
        {
          "output_type": "execute_result",
          "data": {
            "text/plain": [
              "          From Media Type                  Created     Text\n",
              "count   188984     188984                   188984   188984\n",
              "unique      50          6                   185894        1\n",
              "top     user12       TEXT  2018-06-14 21:05:24 UTC  message\n",
              "freq    182511     141916                       11   188984"
            ],
            "text/html": [
              "\n",
              "  <div id=\"df-e40389f0-879d-46a5-9c3f-2641cb7f6478\">\n",
              "    <div class=\"colab-df-container\">\n",
              "      <div>\n",
              "<style scoped>\n",
              "    .dataframe tbody tr th:only-of-type {\n",
              "        vertical-align: middle;\n",
              "    }\n",
              "\n",
              "    .dataframe tbody tr th {\n",
              "        vertical-align: top;\n",
              "    }\n",
              "\n",
              "    .dataframe thead th {\n",
              "        text-align: right;\n",
              "    }\n",
              "</style>\n",
              "<table border=\"1\" class=\"dataframe\">\n",
              "  <thead>\n",
              "    <tr style=\"text-align: right;\">\n",
              "      <th></th>\n",
              "      <th>From</th>\n",
              "      <th>Media Type</th>\n",
              "      <th>Created</th>\n",
              "      <th>Text</th>\n",
              "    </tr>\n",
              "  </thead>\n",
              "  <tbody>\n",
              "    <tr>\n",
              "      <th>count</th>\n",
              "      <td>188984</td>\n",
              "      <td>188984</td>\n",
              "      <td>188984</td>\n",
              "      <td>188984</td>\n",
              "    </tr>\n",
              "    <tr>\n",
              "      <th>unique</th>\n",
              "      <td>50</td>\n",
              "      <td>6</td>\n",
              "      <td>185894</td>\n",
              "      <td>1</td>\n",
              "    </tr>\n",
              "    <tr>\n",
              "      <th>top</th>\n",
              "      <td>user12</td>\n",
              "      <td>TEXT</td>\n",
              "      <td>2018-06-14 21:05:24 UTC</td>\n",
              "      <td>message</td>\n",
              "    </tr>\n",
              "    <tr>\n",
              "      <th>freq</th>\n",
              "      <td>182511</td>\n",
              "      <td>141916</td>\n",
              "      <td>11</td>\n",
              "      <td>188984</td>\n",
              "    </tr>\n",
              "  </tbody>\n",
              "</table>\n",
              "</div>\n",
              "      <button class=\"colab-df-convert\" onclick=\"convertToInteractive('df-e40389f0-879d-46a5-9c3f-2641cb7f6478')\"\n",
              "              title=\"Convert this dataframe to an interactive table.\"\n",
              "              style=\"display:none;\">\n",
              "        \n",
              "  <svg xmlns=\"http://www.w3.org/2000/svg\" height=\"24px\"viewBox=\"0 0 24 24\"\n",
              "       width=\"24px\">\n",
              "    <path d=\"M0 0h24v24H0V0z\" fill=\"none\"/>\n",
              "    <path d=\"M18.56 5.44l.94 2.06.94-2.06 2.06-.94-2.06-.94-.94-2.06-.94 2.06-2.06.94zm-11 1L8.5 8.5l.94-2.06 2.06-.94-2.06-.94L8.5 2.5l-.94 2.06-2.06.94zm10 10l.94 2.06.94-2.06 2.06-.94-2.06-.94-.94-2.06-.94 2.06-2.06.94z\"/><path d=\"M17.41 7.96l-1.37-1.37c-.4-.4-.92-.59-1.43-.59-.52 0-1.04.2-1.43.59L10.3 9.45l-7.72 7.72c-.78.78-.78 2.05 0 2.83L4 21.41c.39.39.9.59 1.41.59.51 0 1.02-.2 1.41-.59l7.78-7.78 2.81-2.81c.8-.78.8-2.07 0-2.86zM5.41 20L4 18.59l7.72-7.72 1.47 1.35L5.41 20z\"/>\n",
              "  </svg>\n",
              "      </button>\n",
              "      \n",
              "  <style>\n",
              "    .colab-df-container {\n",
              "      display:flex;\n",
              "      flex-wrap:wrap;\n",
              "      gap: 12px;\n",
              "    }\n",
              "\n",
              "    .colab-df-convert {\n",
              "      background-color: #E8F0FE;\n",
              "      border: none;\n",
              "      border-radius: 50%;\n",
              "      cursor: pointer;\n",
              "      display: none;\n",
              "      fill: #1967D2;\n",
              "      height: 32px;\n",
              "      padding: 0 0 0 0;\n",
              "      width: 32px;\n",
              "    }\n",
              "\n",
              "    .colab-df-convert:hover {\n",
              "      background-color: #E2EBFA;\n",
              "      box-shadow: 0px 1px 2px rgba(60, 64, 67, 0.3), 0px 1px 3px 1px rgba(60, 64, 67, 0.15);\n",
              "      fill: #174EA6;\n",
              "    }\n",
              "\n",
              "    [theme=dark] .colab-df-convert {\n",
              "      background-color: #3B4455;\n",
              "      fill: #D2E3FC;\n",
              "    }\n",
              "\n",
              "    [theme=dark] .colab-df-convert:hover {\n",
              "      background-color: #434B5C;\n",
              "      box-shadow: 0px 1px 3px 1px rgba(0, 0, 0, 0.15);\n",
              "      filter: drop-shadow(0px 1px 2px rgba(0, 0, 0, 0.3));\n",
              "      fill: #FFFFFF;\n",
              "    }\n",
              "  </style>\n",
              "\n",
              "      <script>\n",
              "        const buttonEl =\n",
              "          document.querySelector('#df-e40389f0-879d-46a5-9c3f-2641cb7f6478 button.colab-df-convert');\n",
              "        buttonEl.style.display =\n",
              "          google.colab.kernel.accessAllowed ? 'block' : 'none';\n",
              "\n",
              "        async function convertToInteractive(key) {\n",
              "          const element = document.querySelector('#df-e40389f0-879d-46a5-9c3f-2641cb7f6478');\n",
              "          const dataTable =\n",
              "            await google.colab.kernel.invokeFunction('convertToInteractive',\n",
              "                                                     [key], {});\n",
              "          if (!dataTable) return;\n",
              "\n",
              "          const docLinkHtml = 'Like what you see? Visit the ' +\n",
              "            '<a target=\"_blank\" href=https://colab.research.google.com/notebooks/data_table.ipynb>data table notebook</a>'\n",
              "            + ' to learn more about interactive tables.';\n",
              "          element.innerHTML = '';\n",
              "          dataTable['output_type'] = 'display_data';\n",
              "          await google.colab.output.renderOutput(dataTable, element);\n",
              "          const docLink = document.createElement('div');\n",
              "          docLink.innerHTML = docLinkHtml;\n",
              "          element.appendChild(docLink);\n",
              "        }\n",
              "      </script>\n",
              "    </div>\n",
              "  </div>\n",
              "  "
            ]
          },
          "metadata": {},
          "execution_count": 9
        }
      ]
    },
    {
      "cell_type": "code",
      "source": [
        "messageFrequency = dfReceived.From.value_counts()\n",
        "print(messageFrequency)"
      ],
      "metadata": {
        "colab": {
          "base_uri": "https://localhost:8080/"
        },
        "id": "IJWRVKzybkow",
        "outputId": "d8df2efb-b2be-435c-d5bf-257cee292b31"
      },
      "execution_count": 18,
      "outputs": [
        {
          "output_type": "stream",
          "name": "stdout",
          "text": [
            "user12    182511\n",
            "user14      1558\n",
            "user4       1417\n",
            "user6       1201\n",
            "user29       474\n",
            "user16       406\n",
            "user20       193\n",
            "user5        132\n",
            "user26       118\n",
            "user31       101\n",
            "user28        94\n",
            "user13        84\n",
            "user48        83\n",
            "user47        65\n",
            "user9         56\n",
            "user44        52\n",
            "user19        41\n",
            "user8         34\n",
            "user17        34\n",
            "user25        31\n",
            "user11        30\n",
            "user0         27\n",
            "user24        23\n",
            "user33        22\n",
            "user23        21\n",
            "user15        21\n",
            "user1         15\n",
            "user7         13\n",
            "user2         12\n",
            "user39        11\n",
            "user46        11\n",
            "user40        10\n",
            "user18        10\n",
            "user30         9\n",
            "user37         7\n",
            "user22         7\n",
            "user35         6\n",
            "user21         6\n",
            "user42         5\n",
            "user45         5\n",
            "user38         5\n",
            "user43         4\n",
            "user3          4\n",
            "user41         3\n",
            "user32         3\n",
            "user34         3\n",
            "user49         2\n",
            "user10         2\n",
            "user27         1\n",
            "user36         1\n",
            "Name: From, dtype: int64\n"
          ]
        }
      ]
    },
    {
      "cell_type": "markdown",
      "source": [
        "# Received Visualization"
      ],
      "metadata": {
        "id": "Ou-LCTRCbR07"
      }
    },
    {
      "cell_type": "code",
      "source": [
        "plt.bar(range(len(messageFrequency)), sorted(messageFrequency), color='red', alpha=0.5)\n",
        "plt.title('Messages received from each user')\n",
        "plt.xlabel('Users')\n",
        "plt.ylabel('Messages received')"
      ],
      "metadata": {
        "colab": {
          "base_uri": "https://localhost:8080/",
          "height": 312
        },
        "id": "dVe9rbM1hhEJ",
        "outputId": "97d6c422-a5e5-4970-9eda-1a10b039d742"
      },
      "execution_count": 19,
      "outputs": [
        {
          "output_type": "execute_result",
          "data": {
            "text/plain": [
              "Text(0, 0.5, 'Messages received')"
            ]
          },
          "metadata": {},
          "execution_count": 19
        },
        {
          "output_type": "display_data",
          "data": {
            "text/plain": [
              "<Figure size 432x288 with 1 Axes>"
            ],
            "image/png": "[encoded data removed]"
          },
          "metadata": {
            "needs_background": "light"
          }
        }
      ]
    },
    {
      "cell_type": "markdown",
      "source": [
        "As you can see we have an outlier that makes it hard to see the rest of the data.\n",
        "We will remove this outlier to better vizualize the rest of the data"
      ],
      "metadata": {
        "id": "Oy2uhoHRkduL"
      }
    }
  ],
  "metadata": {
    "colab": {
      "collapsed_sections": [],
      "provenance": []
    },
    "kernelspec": {
      "display_name": "Python 3",
      "name": "python3"
    }
  },
  "nbformat": 4,
  "nbformat_minor": 0
}