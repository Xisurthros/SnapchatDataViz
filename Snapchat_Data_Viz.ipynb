{
  "cells": [
    {
      "cell_type": "markdown",
      "source": [
        "# Visualization of my Snapchat conversation history."
      ],
      "metadata": {
        "id": "c7UX40HfNYAd"
      }
    },
    {
      "cell_type": "code",
      "source": [
        "import json\n",
        "import numpy as np\n",
        "import pandas as pd\n",
        "import matplotlib.pyplot as plt"
      ],
      "metadata": {
        "id": "V8ud4nbFZzsu"
      },
      "execution_count": 122,
      "outputs": []
    },
    {
      "cell_type": "code",
      "source": [
        "with open('/content/chat_history.json') as json_file:\n",
        "  data = json.load(json_file)"
      ],
      "metadata": {
        "id": "0sg8GV5bZ1qw"
      },
      "execution_count": 123,
      "outputs": []
    },
    {
      "cell_type": "code",
      "source": [
        "# Get all items in dataset\n",
        "for item in data:\n",
        "  print(item)"
      ],
      "metadata": {
        "colab": {
          "base_uri": "https://localhost:8080/"
        },
        "id": "8vuikzE1LkPi",
        "outputId": "03513c24-81f4-4c36-8407-7c0a5bcd5349"
      },
      "execution_count": 124,
      "outputs": [
        {
          "output_type": "stream",
          "name": "stdout",
          "text": [
            "Received Saved Chat History\n",
            "Sent Saved Chat History\n",
            "Received Unsaved Chat History\n",
            "Sent Unsaved Chat History\n"
          ]
        }
      ]
    },
    {
      "cell_type": "markdown",
      "source": [
        "# We are going to start with received chat history."
      ],
      "metadata": {
        "id": "7U4VuQG6NBZL"
      }
    },
    {
      "cell_type": "code",
      "source": [
        "# Combine saved and unsave chat into one larger data frame\n",
        "#   for complete received chat histroy\n",
        "dfReceived = pd.DataFrame(data['Received Saved Chat History'] + \n",
        "                  data['Received Unsaved Chat History'])"
      ],
      "metadata": {
        "id": "eYBqAt_5MHdJ"
      },
      "execution_count": 125,
      "outputs": []
    },
    {
      "cell_type": "code",
      "source": [
        "# Before showing data we will be doing some preprocessing"
      ],
      "metadata": {
        "id": "B_hZumO_YhGX"
      },
      "execution_count": 126,
      "outputs": []
    },
    {
      "cell_type": "code",
      "source": [
        "for col in dfReceived.columns:\n",
        "    print(col)"
      ],
      "metadata": {
        "colab": {
          "base_uri": "https://localhost:8080/"
        },
        "id": "tWCXfzk7ZA5Z",
        "outputId": "030dbc5a-4c13-481c-d5d5-3b3ff1cd329c"
      },
      "execution_count": 127,
      "outputs": [
        {
          "output_type": "stream",
          "name": "stdout",
          "text": [
            "From\n",
            "Media Type\n",
            "Created\n",
            "Text\n"
          ]
        }
      ]
    },
    {
      "cell_type": "markdown",
      "source": [
        "#### Preprocessing for privacy"
      ],
      "metadata": {
        "id": "T895UeToVRHk"
      }
    },
    {
      "cell_type": "code",
      "source": [
        "# Starting with 'From'\n",
        "\n",
        "users = []\n",
        "# Get all users in dfReceived['From']\n",
        "for user in dfReceived['From']:\n",
        "  if user in users:\n",
        "    pass\n",
        "  else:\n",
        "    users.append(user)\n",
        "#print(users)\n",
        "\n",
        "# Replace names for privacy\n",
        "x = 0\n",
        "for user in users:\n",
        "  dfReceived['From'].replace(user, f'user{x}', inplace=True)\n",
        "  x+=1\n",
        "\n",
        "# Now replace all messages in df['Text']\n",
        "dfReceived['Text'] = 'message'"
      ],
      "metadata": {
        "id": "MJxvrSxiUkfF"
      },
      "execution_count": 128,
      "outputs": []
    },
    {
      "cell_type": "code",
      "source": [
        "dfReceived.head()"
      ],
      "metadata": {
        "colab": {
          "base_uri": "https://localhost:8080/",
          "height": 206
        },
        "id": "8gI1avBYYvak",
        "outputId": "a9de55ab-e040-4a47-cda5-63d9531caee5"
      },
      "execution_count": 129,
      "outputs": [
        {
          "output_type": "execute_result",
          "data": {
            "text/plain": [
              "    From Media Type                  Created     Text\n",
              "0  user0       TEXT  2022-09-18 03:33:18 UTC  message\n",
              "1  user0       TEXT  2022-09-18 03:27:38 UTC  message\n",
              "2  user0       TEXT  2022-09-18 03:13:42 UTC  message\n",
              "3  user0       TEXT  2022-09-18 02:57:38 UTC  message\n",
              "4  user0       TEXT  2022-09-18 02:57:32 UTC  message"
            ],
            "text/html": [
              "\n",
              "  <div id=\"df-1a2e4dff-bb92-4c2e-96e2-5525d8e76e46\">\n",
              "    <div class=\"colab-df-container\">\n",
              "      <div>\n",
              "<style scoped>\n",
              "    .dataframe tbody tr th:only-of-type {\n",
              "        vertical-align: middle;\n",
              "    }\n",
              "\n",
              "    .dataframe tbody tr th {\n",
              "        vertical-align: top;\n",
              "    }\n",
              "\n",
              "    .dataframe thead th {\n",
              "        text-align: right;\n",
              "    }\n",
              "</style>\n",
              "<table border=\"1\" class=\"dataframe\">\n",
              "  <thead>\n",
              "    <tr style=\"text-align: right;\">\n",
              "      <th></th>\n",
              "      <th>From</th>\n",
              "      <th>Media Type</th>\n",
              "      <th>Created</th>\n",
              "      <th>Text</th>\n",
              "    </tr>\n",
              "  </thead>\n",
              "  <tbody>\n",
              "    <tr>\n",
              "      <th>0</th>\n",
              "      <td>user0</td>\n",
              "      <td>TEXT</td>\n",
              "      <td>2022-09-18 03:33:18 UTC</td>\n",
              "      <td>message</td>\n",
              "    </tr>\n",
              "    <tr>\n",
              "      <th>1</th>\n",
              "      <td>user0</td>\n",
              "      <td>TEXT</td>\n",
              "      <td>2022-09-18 03:27:38 UTC</td>\n",
              "      <td>message</td>\n",
              "    </tr>\n",
              "    <tr>\n",
              "      <th>2</th>\n",
              "      <td>user0</td>\n",
              "      <td>TEXT</td>\n",
              "      <td>2022-09-18 03:13:42 UTC</td>\n",
              "      <td>message</td>\n",
              "    </tr>\n",
              "    <tr>\n",
              "      <th>3</th>\n",
              "      <td>user0</td>\n",
              "      <td>TEXT</td>\n",
              "      <td>2022-09-18 02:57:38 UTC</td>\n",
              "      <td>message</td>\n",
              "    </tr>\n",
              "    <tr>\n",
              "      <th>4</th>\n",
              "      <td>user0</td>\n",
              "      <td>TEXT</td>\n",
              "      <td>2022-09-18 02:57:32 UTC</td>\n",
              "      <td>message</td>\n",
              "    </tr>\n",
              "  </tbody>\n",
              "</table>\n",
              "</div>\n",
              "      <button class=\"colab-df-convert\" onclick=\"convertToInteractive('df-1a2e4dff-bb92-4c2e-96e2-5525d8e76e46')\"\n",
              "              title=\"Convert this dataframe to an interactive table.\"\n",
              "              style=\"display:none;\">\n",
              "        \n",
              "  <svg xmlns=\"http://www.w3.org/2000/svg\" height=\"24px\"viewBox=\"0 0 24 24\"\n",
              "       width=\"24px\">\n",
              "    <path d=\"M0 0h24v24H0V0z\" fill=\"none\"/>\n",
              "    <path d=\"M18.56 5.44l.94 2.06.94-2.06 2.06-.94-2.06-.94-.94-2.06-.94 2.06-2.06.94zm-11 1L8.5 8.5l.94-2.06 2.06-.94-2.06-.94L8.5 2.5l-.94 2.06-2.06.94zm10 10l.94 2.06.94-2.06 2.06-.94-2.06-.94-.94-2.06-.94 2.06-2.06.94z\"/><path d=\"M17.41 7.96l-1.37-1.37c-.4-.4-.92-.59-1.43-.59-.52 0-1.04.2-1.43.59L10.3 9.45l-7.72 7.72c-.78.78-.78 2.05 0 2.83L4 21.41c.39.39.9.59 1.41.59.51 0 1.02-.2 1.41-.59l7.78-7.78 2.81-2.81c.8-.78.8-2.07 0-2.86zM5.41 20L4 18.59l7.72-7.72 1.47 1.35L5.41 20z\"/>\n",
              "  </svg>\n",
              "      </button>\n",
              "      \n",
              "  <style>\n",
              "    .colab-df-container {\n",
              "      display:flex;\n",
              "      flex-wrap:wrap;\n",
              "      gap: 12px;\n",
              "    }\n",
              "\n",
              "    .colab-df-convert {\n",
              "      background-color: #E8F0FE;\n",
              "      border: none;\n",
              "      border-radius: 50%;\n",
              "      cursor: pointer;\n",
              "      display: none;\n",
              "      fill: #1967D2;\n",
              "      height: 32px;\n",
              "      padding: 0 0 0 0;\n",
              "      width: 32px;\n",
              "    }\n",
              "\n",
              "    .colab-df-convert:hover {\n",
              "      background-color: #E2EBFA;\n",
              "      box-shadow: 0px 1px 2px rgba(60, 64, 67, 0.3), 0px 1px 3px 1px rgba(60, 64, 67, 0.15);\n",
              "      fill: #174EA6;\n",
              "    }\n",
              "\n",
              "    [theme=dark] .colab-df-convert {\n",
              "      background-color: #3B4455;\n",
              "      fill: #D2E3FC;\n",
              "    }\n",
              "\n",
              "    [theme=dark] .colab-df-convert:hover {\n",
              "      background-color: #434B5C;\n",
              "      box-shadow: 0px 1px 3px 1px rgba(0, 0, 0, 0.15);\n",
              "      filter: drop-shadow(0px 1px 2px rgba(0, 0, 0, 0.3));\n",
              "      fill: #FFFFFF;\n",
              "    }\n",
              "  </style>\n",
              "\n",
              "      <script>\n",
              "        const buttonEl =\n",
              "          document.querySelector('#df-1a2e4dff-bb92-4c2e-96e2-5525d8e76e46 button.colab-df-convert');\n",
              "        buttonEl.style.display =\n",
              "          google.colab.kernel.accessAllowed ? 'block' : 'none';\n",
              "\n",
              "        async function convertToInteractive(key) {\n",
              "          const element = document.querySelector('#df-1a2e4dff-bb92-4c2e-96e2-5525d8e76e46');\n",
              "          const dataTable =\n",
              "            await google.colab.kernel.invokeFunction('convertToInteractive',\n",
              "                                                     [key], {});\n",
              "          if (!dataTable) return;\n",
              "\n",
              "          const docLinkHtml = 'Like what you see? Visit the ' +\n",
              "            '<a target=\"_blank\" href=https://colab.research.google.com/notebooks/data_table.ipynb>data table notebook</a>'\n",
              "            + ' to learn more about interactive tables.';\n",
              "          element.innerHTML = '';\n",
              "          dataTable['output_type'] = 'display_data';\n",
              "          await google.colab.output.renderOutput(dataTable, element);\n",
              "          const docLink = document.createElement('div');\n",
              "          docLink.innerHTML = docLinkHtml;\n",
              "          element.appendChild(docLink);\n",
              "        }\n",
              "      </script>\n",
              "    </div>\n",
              "  </div>\n",
              "  "
            ]
          },
          "metadata": {},
          "execution_count": 129
        }
      ]
    },
    {
      "cell_type": "code",
      "source": [
        "dfReceived.info()"
      ],
      "metadata": {
        "colab": {
          "base_uri": "https://localhost:8080/"
        },
        "id": "zl9QzOD73asu",
        "outputId": "dfbec400-7742-40c1-8b70-2da5bdb13481"
      },
      "execution_count": 130,
      "outputs": [
        {
          "output_type": "stream",
          "name": "stdout",
          "text": [
            "<class 'pandas.core.frame.DataFrame'>\n",
            "RangeIndex: 188984 entries, 0 to 188983\n",
            "Data columns (total 4 columns):\n",
            " #   Column      Non-Null Count   Dtype \n",
            "---  ------      --------------   ----- \n",
            " 0   From        188984 non-null  object\n",
            " 1   Media Type  188984 non-null  object\n",
            " 2   Created     188984 non-null  object\n",
            " 3   Text        188984 non-null  object\n",
            "dtypes: object(4)\n",
            "memory usage: 5.8+ MB\n"
          ]
        }
      ]
    },
    {
      "cell_type": "code",
      "source": [
        "dfReceived.describe()"
      ],
      "metadata": {
        "colab": {
          "base_uri": "https://localhost:8080/",
          "height": 175
        },
        "id": "EWa84aQecq-F",
        "outputId": "a6edd62c-40e6-448b-f531-14bf4b84f9f2"
      },
      "execution_count": 131,
      "outputs": [
        {
          "output_type": "execute_result",
          "data": {
            "text/plain": [
              "          From Media Type                  Created     Text\n",
              "count   188984     188984                   188984   188984\n",
              "unique      50          6                   185894        1\n",
              "top     user12       TEXT  2018-06-14 21:05:24 UTC  message\n",
              "freq    182511     141916                       11   188984"
            ],
            "text/html": [
              "\n",
              "  <div id=\"df-cbb86132-6b85-466d-9d5e-c6abbbf838ca\">\n",
              "    <div class=\"colab-df-container\">\n",
              "      <div>\n",
              "<style scoped>\n",
              "    .dataframe tbody tr th:only-of-type {\n",
              "        vertical-align: middle;\n",
              "    }\n",
              "\n",
              "    .dataframe tbody tr th {\n",
              "        vertical-align: top;\n",
              "    }\n",
              "\n",
              "    .dataframe thead th {\n",
              "        text-align: right;\n",
              "    }\n",
              "</style>\n",
              "<table border=\"1\" class=\"dataframe\">\n",
              "  <thead>\n",
              "    <tr style=\"text-align: right;\">\n",
              "      <th></th>\n",
              "      <th>From</th>\n",
              "      <th>Media Type</th>\n",
              "      <th>Created</th>\n",
              "      <th>Text</th>\n",
              "    </tr>\n",
              "  </thead>\n",
              "  <tbody>\n",
              "    <tr>\n",
              "      <th>count</th>\n",
              "      <td>188984</td>\n",
              "      <td>188984</td>\n",
              "      <td>188984</td>\n",
              "      <td>188984</td>\n",
              "    </tr>\n",
              "    <tr>\n",
              "      <th>unique</th>\n",
              "      <td>50</td>\n",
              "      <td>6</td>\n",
              "      <td>185894</td>\n",
              "      <td>1</td>\n",
              "    </tr>\n",
              "    <tr>\n",
              "      <th>top</th>\n",
              "      <td>user12</td>\n",
              "      <td>TEXT</td>\n",
              "      <td>2018-06-14 21:05:24 UTC</td>\n",
              "      <td>message</td>\n",
              "    </tr>\n",
              "    <tr>\n",
              "      <th>freq</th>\n",
              "      <td>182511</td>\n",
              "      <td>141916</td>\n",
              "      <td>11</td>\n",
              "      <td>188984</td>\n",
              "    </tr>\n",
              "  </tbody>\n",
              "</table>\n",
              "</div>\n",
              "      <button class=\"colab-df-convert\" onclick=\"convertToInteractive('df-cbb86132-6b85-466d-9d5e-c6abbbf838ca')\"\n",
              "              title=\"Convert this dataframe to an interactive table.\"\n",
              "              style=\"display:none;\">\n",
              "        \n",
              "  <svg xmlns=\"http://www.w3.org/2000/svg\" height=\"24px\"viewBox=\"0 0 24 24\"\n",
              "       width=\"24px\">\n",
              "    <path d=\"M0 0h24v24H0V0z\" fill=\"none\"/>\n",
              "    <path d=\"M18.56 5.44l.94 2.06.94-2.06 2.06-.94-2.06-.94-.94-2.06-.94 2.06-2.06.94zm-11 1L8.5 8.5l.94-2.06 2.06-.94-2.06-.94L8.5 2.5l-.94 2.06-2.06.94zm10 10l.94 2.06.94-2.06 2.06-.94-2.06-.94-.94-2.06-.94 2.06-2.06.94z\"/><path d=\"M17.41 7.96l-1.37-1.37c-.4-.4-.92-.59-1.43-.59-.52 0-1.04.2-1.43.59L10.3 9.45l-7.72 7.72c-.78.78-.78 2.05 0 2.83L4 21.41c.39.39.9.59 1.41.59.51 0 1.02-.2 1.41-.59l7.78-7.78 2.81-2.81c.8-.78.8-2.07 0-2.86zM5.41 20L4 18.59l7.72-7.72 1.47 1.35L5.41 20z\"/>\n",
              "  </svg>\n",
              "      </button>\n",
              "      \n",
              "  <style>\n",
              "    .colab-df-container {\n",
              "      display:flex;\n",
              "      flex-wrap:wrap;\n",
              "      gap: 12px;\n",
              "    }\n",
              "\n",
              "    .colab-df-convert {\n",
              "      background-color: #E8F0FE;\n",
              "      border: none;\n",
              "      border-radius: 50%;\n",
              "      cursor: pointer;\n",
              "      display: none;\n",
              "      fill: #1967D2;\n",
              "      height: 32px;\n",
              "      padding: 0 0 0 0;\n",
              "      width: 32px;\n",
              "    }\n",
              "\n",
              "    .colab-df-convert:hover {\n",
              "      background-color: #E2EBFA;\n",
              "      box-shadow: 0px 1px 2px rgba(60, 64, 67, 0.3), 0px 1px 3px 1px rgba(60, 64, 67, 0.15);\n",
              "      fill: #174EA6;\n",
              "    }\n",
              "\n",
              "    [theme=dark] .colab-df-convert {\n",
              "      background-color: #3B4455;\n",
              "      fill: #D2E3FC;\n",
              "    }\n",
              "\n",
              "    [theme=dark] .colab-df-convert:hover {\n",
              "      background-color: #434B5C;\n",
              "      box-shadow: 0px 1px 3px 1px rgba(0, 0, 0, 0.15);\n",
              "      filter: drop-shadow(0px 1px 2px rgba(0, 0, 0, 0.3));\n",
              "      fill: #FFFFFF;\n",
              "    }\n",
              "  </style>\n",
              "\n",
              "      <script>\n",
              "        const buttonEl =\n",
              "          document.querySelector('#df-cbb86132-6b85-466d-9d5e-c6abbbf838ca button.colab-df-convert');\n",
              "        buttonEl.style.display =\n",
              "          google.colab.kernel.accessAllowed ? 'block' : 'none';\n",
              "\n",
              "        async function convertToInteractive(key) {\n",
              "          const element = document.querySelector('#df-cbb86132-6b85-466d-9d5e-c6abbbf838ca');\n",
              "          const dataTable =\n",
              "            await google.colab.kernel.invokeFunction('convertToInteractive',\n",
              "                                                     [key], {});\n",
              "          if (!dataTable) return;\n",
              "\n",
              "          const docLinkHtml = 'Like what you see? Visit the ' +\n",
              "            '<a target=\"_blank\" href=https://colab.research.google.com/notebooks/data_table.ipynb>data table notebook</a>'\n",
              "            + ' to learn more about interactive tables.';\n",
              "          element.innerHTML = '';\n",
              "          dataTable['output_type'] = 'display_data';\n",
              "          await google.colab.output.renderOutput(dataTable, element);\n",
              "          const docLink = document.createElement('div');\n",
              "          docLink.innerHTML = docLinkHtml;\n",
              "          element.appendChild(docLink);\n",
              "        }\n",
              "      </script>\n",
              "    </div>\n",
              "  </div>\n",
              "  "
            ]
          },
          "metadata": {},
          "execution_count": 131
        }
      ]
    },
    {
      "cell_type": "code",
      "source": [
        "messageReceivedFrequency = dfReceived['From'].value_counts()\n",
        "print(messageReceivedFrequency)"
      ],
      "metadata": {
        "colab": {
          "base_uri": "https://localhost:8080/"
        },
        "id": "IJWRVKzybkow",
        "outputId": "3a575976-97e1-4d84-f07c-6a3374b7ed95"
      },
      "execution_count": 132,
      "outputs": [
        {
          "output_type": "stream",
          "name": "stdout",
          "text": [
            "user12    182511\n",
            "user14      1558\n",
            "user4       1417\n",
            "user6       1201\n",
            "user29       474\n",
            "user16       406\n",
            "user20       193\n",
            "user5        132\n",
            "user26       118\n",
            "user31       101\n",
            "user28        94\n",
            "user13        84\n",
            "user48        83\n",
            "user47        65\n",
            "user9         56\n",
            "user44        52\n",
            "user19        41\n",
            "user8         34\n",
            "user17        34\n",
            "user25        31\n",
            "user11        30\n",
            "user0         27\n",
            "user24        23\n",
            "user33        22\n",
            "user23        21\n",
            "user15        21\n",
            "user1         15\n",
            "user7         13\n",
            "user2         12\n",
            "user39        11\n",
            "user46        11\n",
            "user40        10\n",
            "user18        10\n",
            "user30         9\n",
            "user37         7\n",
            "user22         7\n",
            "user35         6\n",
            "user21         6\n",
            "user42         5\n",
            "user45         5\n",
            "user38         5\n",
            "user43         4\n",
            "user3          4\n",
            "user41         3\n",
            "user32         3\n",
            "user34         3\n",
            "user49         2\n",
            "user10         2\n",
            "user27         1\n",
            "user36         1\n",
            "Name: From, dtype: int64\n"
          ]
        }
      ]
    },
    {
      "cell_type": "markdown",
      "source": [
        "# Received Visualization"
      ],
      "metadata": {
        "id": "Ou-LCTRCbR07"
      }
    },
    {
      "cell_type": "code",
      "source": [
        "sort = sorted(messageReceivedFrequency)\n",
        "names = [name for name in sort]\n",
        "plt.bar(range(len(messageReceivedFrequency)), sort, color='red', alpha=0.5, tick_label=names)\n",
        "plt.title('Messages received from each user')\n",
        "plt.xlabel('Users')\n",
        "plt.xticks(rotation=90)\n",
        "plt.ylabel('Messages received')"
      ],
      "metadata": {
        "colab": {
          "base_uri": "https://localhost:8080/",
          "height": 340
        },
        "id": "dVe9rbM1hhEJ",
        "outputId": "95c5eef5-17d1-4dc1-d782-67759bdaeb3a"
      },
      "execution_count": 144,
      "outputs": [
        {
          "output_type": "execute_result",
          "data": {
            "text/plain": [
              "Text(0, 0.5, 'Messages received')"
            ]
          },
          "metadata": {},
          "execution_count": 144
        },
        {
          "output_type": "display_data",
          "data": {
            "text/plain": [
              "<Figure size 432x288 with 1 Axes>"
            ],
            "image/png": "[encoded data removed]"
          },
          "metadata": {
            "needs_background": "light"
          }
        }
      ]
    },
    {
      "cell_type": "markdown",
      "source": [
        "As you can see we have an outlier that makes it hard to see the rest of the data.\n",
        "We will remove this outlier to better vizualize the rest of the data."
      ],
      "metadata": {
        "id": "Oy2uhoHRkduL"
      }
    },
    {
      "cell_type": "code",
      "source": [
        "messageReceivedFrequencyCleaned = dfReceived['From'].loc[lambda x: x !='user12'].value_counts()\n",
        "print(messageReceivedFrequencyCleaned)"
      ],
      "metadata": {
        "colab": {
          "base_uri": "https://localhost:8080/"
        },
        "id": "hhC2w9yB4sGe",
        "outputId": "b1e65693-8ece-4947-dd8e-7ffcca7de38f"
      },
      "execution_count": 145,
      "outputs": [
        {
          "output_type": "stream",
          "name": "stdout",
          "text": [
            "user14    1558\n",
            "user4     1417\n",
            "user6     1201\n",
            "user29     474\n",
            "user16     406\n",
            "user20     193\n",
            "user5      132\n",
            "user26     118\n",
            "user31     101\n",
            "user28      94\n",
            "user13      84\n",
            "user48      83\n",
            "user47      65\n",
            "user9       56\n",
            "user44      52\n",
            "user19      41\n",
            "user8       34\n",
            "user17      34\n",
            "user25      31\n",
            "user11      30\n",
            "user0       27\n",
            "user24      23\n",
            "user33      22\n",
            "user23      21\n",
            "user15      21\n",
            "user1       15\n",
            "user7       13\n",
            "user2       12\n",
            "user39      11\n",
            "user46      11\n",
            "user40      10\n",
            "user18      10\n",
            "user30       9\n",
            "user37       7\n",
            "user22       7\n",
            "user35       6\n",
            "user21       6\n",
            "user42       5\n",
            "user45       5\n",
            "user38       5\n",
            "user43       4\n",
            "user3        4\n",
            "user41       3\n",
            "user32       3\n",
            "user34       3\n",
            "user49       2\n",
            "user10       2\n",
            "user27       1\n",
            "user36       1\n",
            "Name: From, dtype: int64\n"
          ]
        }
      ]
    },
    {
      "cell_type": "code",
      "source": [
        "plt.bar(range(len(messageReceivedFrequencyCleaned)), sorted(messageReceivedFrequencyCleaned), color='red', alpha=0.5)\n",
        "plt.title('Messages received from each user')\n",
        "plt.xlabel('Users')\n",
        "plt.ylabel('Messages received')"
      ],
      "metadata": {
        "colab": {
          "base_uri": "https://localhost:8080/",
          "height": 312
        },
        "id": "k8gPPaMW45l8",
        "outputId": "497a5f5c-a631-4cdb-a0d6-4e472800cc07"
      },
      "execution_count": 146,
      "outputs": [
        {
          "output_type": "execute_result",
          "data": {
            "text/plain": [
              "Text(0, 0.5, 'Messages received')"
            ]
          },
          "metadata": {},
          "execution_count": 146
        },
        {
          "output_type": "display_data",
          "data": {
            "text/plain": [
              "<Figure size 432x288 with 1 Axes>"
            ],
            "image/png": "[encoded data removed]"
          },
          "metadata": {
            "needs_background": "light"
          }
        }
      ]
    },
    {
      "cell_type": "markdown",
      "source": [
        "# Now lets take a look at sent chat history."
      ],
      "metadata": {
        "id": "tZyTyfoaAyBX"
      }
    },
    {
      "cell_type": "code",
      "source": [
        "# Lets go through the same process we did earlier.\n",
        "dfSent = pd.DataFrame(data['Sent Saved Chat History'] + \n",
        "                  data['Sent Unsaved Chat History'])"
      ],
      "metadata": {
        "id": "OjjHD2HpA2Ps"
      },
      "execution_count": 136,
      "outputs": []
    },
    {
      "cell_type": "code",
      "source": [
        "for col in dfSent.columns:\n",
        "    print(col)"
      ],
      "metadata": {
        "colab": {
          "base_uri": "https://localhost:8080/"
        },
        "id": "Rs1GWvAqBd75",
        "outputId": "99f8c707-fc20-4355-c5cb-0fa5a864e559"
      },
      "execution_count": 137,
      "outputs": [
        {
          "output_type": "stream",
          "name": "stdout",
          "text": [
            "To\n",
            "Media Type\n",
            "Created\n",
            "Text\n"
          ]
        }
      ]
    },
    {
      "cell_type": "code",
      "source": [
        "users = []\n",
        "# Get all users in dfSent['To']\n",
        "for user in dfSent['To']:\n",
        "  if user in users:\n",
        "    pass\n",
        "  else:\n",
        "    users.append(user)\n",
        "#print(users)\n",
        "\n",
        "# Replace names for privacy\n",
        "x = 0\n",
        "for user in users:\n",
        "  dfSent['To'].replace(user, f'user{x}', inplace=True)\n",
        "  x+=1\n",
        "\n",
        "# Now replace all messages in df['Text']\n",
        "dfSent['Text'] = 'message'"
      ],
      "metadata": {
        "id": "BNB3POblBmVI"
      },
      "execution_count": 138,
      "outputs": []
    },
    {
      "cell_type": "code",
      "source": [
        "dfSent.head()"
      ],
      "metadata": {
        "colab": {
          "base_uri": "https://localhost:8080/",
          "height": 206
        },
        "id": "qJ-vJ5fQCAhp",
        "outputId": "85c78d32-c651-4a5a-80e5-d3c5429dfe8b"
      },
      "execution_count": 139,
      "outputs": [
        {
          "output_type": "execute_result",
          "data": {
            "text/plain": [
              "      To Media Type                  Created     Text\n",
              "0  user0       TEXT  2022-09-18 03:35:37 UTC  message\n",
              "1  user0       TEXT  2022-09-18 03:31:01 UTC  message\n",
              "2  user0       TEXT  2022-09-18 03:30:32 UTC  message\n",
              "3  user0       TEXT  2022-09-18 03:00:03 UTC  message\n",
              "4  user0       TEXT  2022-09-18 03:00:00 UTC  message"
            ],
            "text/html": [
              "\n",
              "  <div id=\"df-63a0bf34-0899-4e3c-9889-b67ece17cf37\">\n",
              "    <div class=\"colab-df-container\">\n",
              "      <div>\n",
              "<style scoped>\n",
              "    .dataframe tbody tr th:only-of-type {\n",
              "        vertical-align: middle;\n",
              "    }\n",
              "\n",
              "    .dataframe tbody tr th {\n",
              "        vertical-align: top;\n",
              "    }\n",
              "\n",
              "    .dataframe thead th {\n",
              "        text-align: right;\n",
              "    }\n",
              "</style>\n",
              "<table border=\"1\" class=\"dataframe\">\n",
              "  <thead>\n",
              "    <tr style=\"text-align: right;\">\n",
              "      <th></th>\n",
              "      <th>To</th>\n",
              "      <th>Media Type</th>\n",
              "      <th>Created</th>\n",
              "      <th>Text</th>\n",
              "    </tr>\n",
              "  </thead>\n",
              "  <tbody>\n",
              "    <tr>\n",
              "      <th>0</th>\n",
              "      <td>user0</td>\n",
              "      <td>TEXT</td>\n",
              "      <td>2022-09-18 03:35:37 UTC</td>\n",
              "      <td>message</td>\n",
              "    </tr>\n",
              "    <tr>\n",
              "      <th>1</th>\n",
              "      <td>user0</td>\n",
              "      <td>TEXT</td>\n",
              "      <td>2022-09-18 03:31:01 UTC</td>\n",
              "      <td>message</td>\n",
              "    </tr>\n",
              "    <tr>\n",
              "      <th>2</th>\n",
              "      <td>user0</td>\n",
              "      <td>TEXT</td>\n",
              "      <td>2022-09-18 03:30:32 UTC</td>\n",
              "      <td>message</td>\n",
              "    </tr>\n",
              "    <tr>\n",
              "      <th>3</th>\n",
              "      <td>user0</td>\n",
              "      <td>TEXT</td>\n",
              "      <td>2022-09-18 03:00:03 UTC</td>\n",
              "      <td>message</td>\n",
              "    </tr>\n",
              "    <tr>\n",
              "      <th>4</th>\n",
              "      <td>user0</td>\n",
              "      <td>TEXT</td>\n",
              "      <td>2022-09-18 03:00:00 UTC</td>\n",
              "      <td>message</td>\n",
              "    </tr>\n",
              "  </tbody>\n",
              "</table>\n",
              "</div>\n",
              "      <button class=\"colab-df-convert\" onclick=\"convertToInteractive('df-63a0bf34-0899-4e3c-9889-b67ece17cf37')\"\n",
              "              title=\"Convert this dataframe to an interactive table.\"\n",
              "              style=\"display:none;\">\n",
              "        \n",
              "  <svg xmlns=\"http://www.w3.org/2000/svg\" height=\"24px\"viewBox=\"0 0 24 24\"\n",
              "       width=\"24px\">\n",
              "    <path d=\"M0 0h24v24H0V0z\" fill=\"none\"/>\n",
              "    <path d=\"M18.56 5.44l.94 2.06.94-2.06 2.06-.94-2.06-.94-.94-2.06-.94 2.06-2.06.94zm-11 1L8.5 8.5l.94-2.06 2.06-.94-2.06-.94L8.5 2.5l-.94 2.06-2.06.94zm10 10l.94 2.06.94-2.06 2.06-.94-2.06-.94-.94-2.06-.94 2.06-2.06.94z\"/><path d=\"M17.41 7.96l-1.37-1.37c-.4-.4-.92-.59-1.43-.59-.52 0-1.04.2-1.43.59L10.3 9.45l-7.72 7.72c-.78.78-.78 2.05 0 2.83L4 21.41c.39.39.9.59 1.41.59.51 0 1.02-.2 1.41-.59l7.78-7.78 2.81-2.81c.8-.78.8-2.07 0-2.86zM5.41 20L4 18.59l7.72-7.72 1.47 1.35L5.41 20z\"/>\n",
              "  </svg>\n",
              "      </button>\n",
              "      \n",
              "  <style>\n",
              "    .colab-df-container {\n",
              "      display:flex;\n",
              "      flex-wrap:wrap;\n",
              "      gap: 12px;\n",
              "    }\n",
              "\n",
              "    .colab-df-convert {\n",
              "      background-color: #E8F0FE;\n",
              "      border: none;\n",
              "      border-radius: 50%;\n",
              "      cursor: pointer;\n",
              "      display: none;\n",
              "      fill: #1967D2;\n",
              "      height: 32px;\n",
              "      padding: 0 0 0 0;\n",
              "      width: 32px;\n",
              "    }\n",
              "\n",
              "    .colab-df-convert:hover {\n",
              "      background-color: #E2EBFA;\n",
              "      box-shadow: 0px 1px 2px rgba(60, 64, 67, 0.3), 0px 1px 3px 1px rgba(60, 64, 67, 0.15);\n",
              "      fill: #174EA6;\n",
              "    }\n",
              "\n",
              "    [theme=dark] .colab-df-convert {\n",
              "      background-color: #3B4455;\n",
              "      fill: #D2E3FC;\n",
              "    }\n",
              "\n",
              "    [theme=dark] .colab-df-convert:hover {\n",
              "      background-color: #434B5C;\n",
              "      box-shadow: 0px 1px 3px 1px rgba(0, 0, 0, 0.15);\n",
              "      filter: drop-shadow(0px 1px 2px rgba(0, 0, 0, 0.3));\n",
              "      fill: #FFFFFF;\n",
              "    }\n",
              "  </style>\n",
              "\n",
              "      <script>\n",
              "        const buttonEl =\n",
              "          document.querySelector('#df-63a0bf34-0899-4e3c-9889-b67ece17cf37 button.colab-df-convert');\n",
              "        buttonEl.style.display =\n",
              "          google.colab.kernel.accessAllowed ? 'block' : 'none';\n",
              "\n",
              "        async function convertToInteractive(key) {\n",
              "          const element = document.querySelector('#df-63a0bf34-0899-4e3c-9889-b67ece17cf37');\n",
              "          const dataTable =\n",
              "            await google.colab.kernel.invokeFunction('convertToInteractive',\n",
              "                                                     [key], {});\n",
              "          if (!dataTable) return;\n",
              "\n",
              "          const docLinkHtml = 'Like what you see? Visit the ' +\n",
              "            '<a target=\"_blank\" href=https://colab.research.google.com/notebooks/data_table.ipynb>data table notebook</a>'\n",
              "            + ' to learn more about interactive tables.';\n",
              "          element.innerHTML = '';\n",
              "          dataTable['output_type'] = 'display_data';\n",
              "          await google.colab.output.renderOutput(dataTable, element);\n",
              "          const docLink = document.createElement('div');\n",
              "          docLink.innerHTML = docLinkHtml;\n",
              "          element.appendChild(docLink);\n",
              "        }\n",
              "      </script>\n",
              "    </div>\n",
              "  </div>\n",
              "  "
            ]
          },
          "metadata": {},
          "execution_count": 139
        }
      ]
    },
    {
      "cell_type": "code",
      "source": [
        "dfSent.info()"
      ],
      "metadata": {
        "colab": {
          "base_uri": "https://localhost:8080/"
        },
        "id": "HUvwzVYgCDk5",
        "outputId": "5431aed3-abe3-4d29-92ec-d5659e7b6014"
      },
      "execution_count": 140,
      "outputs": [
        {
          "output_type": "stream",
          "name": "stdout",
          "text": [
            "<class 'pandas.core.frame.DataFrame'>\n",
            "RangeIndex: 149318 entries, 0 to 149317\n",
            "Data columns (total 4 columns):\n",
            " #   Column      Non-Null Count   Dtype \n",
            "---  ------      --------------   ----- \n",
            " 0   To          149318 non-null  object\n",
            " 1   Media Type  149318 non-null  object\n",
            " 2   Created     149318 non-null  object\n",
            " 3   Text        149318 non-null  object\n",
            "dtypes: object(4)\n",
            "memory usage: 4.6+ MB\n"
          ]
        }
      ]
    },
    {
      "cell_type": "code",
      "source": [
        "dfSent.describe()"
      ],
      "metadata": {
        "colab": {
          "base_uri": "https://localhost:8080/",
          "height": 175
        },
        "id": "AT4rufXNCGdD",
        "outputId": "3ee0a70d-d37e-475d-afb5-571aeb3febd4"
      },
      "execution_count": 141,
      "outputs": [
        {
          "output_type": "execute_result",
          "data": {
            "text/plain": [
              "            To Media Type                  Created     Text\n",
              "count   149318     149318                   149318   149318\n",
              "unique      53          6                   148083        1\n",
              "top      user9       TEXT  2018-06-23 21:17:07 UTC  message\n",
              "freq    141416     127828                        8   149318"
            ],
            "text/html": [
              "\n",
              "  <div id=\"df-ef76d074-6114-4028-8f89-f2ec67d5aa62\">\n",
              "    <div class=\"colab-df-container\">\n",
              "      <div>\n",
              "<style scoped>\n",
              "    .dataframe tbody tr th:only-of-type {\n",
              "        vertical-align: middle;\n",
              "    }\n",
              "\n",
              "    .dataframe tbody tr th {\n",
              "        vertical-align: top;\n",
              "    }\n",
              "\n",
              "    .dataframe thead th {\n",
              "        text-align: right;\n",
              "    }\n",
              "</style>\n",
              "<table border=\"1\" class=\"dataframe\">\n",
              "  <thead>\n",
              "    <tr style=\"text-align: right;\">\n",
              "      <th></th>\n",
              "      <th>To</th>\n",
              "      <th>Media Type</th>\n",
              "      <th>Created</th>\n",
              "      <th>Text</th>\n",
              "    </tr>\n",
              "  </thead>\n",
              "  <tbody>\n",
              "    <tr>\n",
              "      <th>count</th>\n",
              "      <td>149318</td>\n",
              "      <td>149318</td>\n",
              "      <td>149318</td>\n",
              "      <td>149318</td>\n",
              "    </tr>\n",
              "    <tr>\n",
              "      <th>unique</th>\n",
              "      <td>53</td>\n",
              "      <td>6</td>\n",
              "      <td>148083</td>\n",
              "      <td>1</td>\n",
              "    </tr>\n",
              "    <tr>\n",
              "      <th>top</th>\n",
              "      <td>user9</td>\n",
              "      <td>TEXT</td>\n",
              "      <td>2018-06-23 21:17:07 UTC</td>\n",
              "      <td>message</td>\n",
              "    </tr>\n",
              "    <tr>\n",
              "      <th>freq</th>\n",
              "      <td>141416</td>\n",
              "      <td>127828</td>\n",
              "      <td>8</td>\n",
              "      <td>149318</td>\n",
              "    </tr>\n",
              "  </tbody>\n",
              "</table>\n",
              "</div>\n",
              "      <button class=\"colab-df-convert\" onclick=\"convertToInteractive('df-ef76d074-6114-4028-8f89-f2ec67d5aa62')\"\n",
              "              title=\"Convert this dataframe to an interactive table.\"\n",
              "              style=\"display:none;\">\n",
              "        \n",
              "  <svg xmlns=\"http://www.w3.org/2000/svg\" height=\"24px\"viewBox=\"0 0 24 24\"\n",
              "       width=\"24px\">\n",
              "    <path d=\"M0 0h24v24H0V0z\" fill=\"none\"/>\n",
              "    <path d=\"M18.56 5.44l.94 2.06.94-2.06 2.06-.94-2.06-.94-.94-2.06-.94 2.06-2.06.94zm-11 1L8.5 8.5l.94-2.06 2.06-.94-2.06-.94L8.5 2.5l-.94 2.06-2.06.94zm10 10l.94 2.06.94-2.06 2.06-.94-2.06-.94-.94-2.06-.94 2.06-2.06.94z\"/><path d=\"M17.41 7.96l-1.37-1.37c-.4-.4-.92-.59-1.43-.59-.52 0-1.04.2-1.43.59L10.3 9.45l-7.72 7.72c-.78.78-.78 2.05 0 2.83L4 21.41c.39.39.9.59 1.41.59.51 0 1.02-.2 1.41-.59l7.78-7.78 2.81-2.81c.8-.78.8-2.07 0-2.86zM5.41 20L4 18.59l7.72-7.72 1.47 1.35L5.41 20z\"/>\n",
              "  </svg>\n",
              "      </button>\n",
              "      \n",
              "  <style>\n",
              "    .colab-df-container {\n",
              "      display:flex;\n",
              "      flex-wrap:wrap;\n",
              "      gap: 12px;\n",
              "    }\n",
              "\n",
              "    .colab-df-convert {\n",
              "      background-color: #E8F0FE;\n",
              "      border: none;\n",
              "      border-radius: 50%;\n",
              "      cursor: pointer;\n",
              "      display: none;\n",
              "      fill: #1967D2;\n",
              "      height: 32px;\n",
              "      padding: 0 0 0 0;\n",
              "      width: 32px;\n",
              "    }\n",
              "\n",
              "    .colab-df-convert:hover {\n",
              "      background-color: #E2EBFA;\n",
              "      box-shadow: 0px 1px 2px rgba(60, 64, 67, 0.3), 0px 1px 3px 1px rgba(60, 64, 67, 0.15);\n",
              "      fill: #174EA6;\n",
              "    }\n",
              "\n",
              "    [theme=dark] .colab-df-convert {\n",
              "      background-color: #3B4455;\n",
              "      fill: #D2E3FC;\n",
              "    }\n",
              "\n",
              "    [theme=dark] .colab-df-convert:hover {\n",
              "      background-color: #434B5C;\n",
              "      box-shadow: 0px 1px 3px 1px rgba(0, 0, 0, 0.15);\n",
              "      filter: drop-shadow(0px 1px 2px rgba(0, 0, 0, 0.3));\n",
              "      fill: #FFFFFF;\n",
              "    }\n",
              "  </style>\n",
              "\n",
              "      <script>\n",
              "        const buttonEl =\n",
              "          document.querySelector('#df-ef76d074-6114-4028-8f89-f2ec67d5aa62 button.colab-df-convert');\n",
              "        buttonEl.style.display =\n",
              "          google.colab.kernel.accessAllowed ? 'block' : 'none';\n",
              "\n",
              "        async function convertToInteractive(key) {\n",
              "          const element = document.querySelector('#df-ef76d074-6114-4028-8f89-f2ec67d5aa62');\n",
              "          const dataTable =\n",
              "            await google.colab.kernel.invokeFunction('convertToInteractive',\n",
              "                                                     [key], {});\n",
              "          if (!dataTable) return;\n",
              "\n",
              "          const docLinkHtml = 'Like what you see? Visit the ' +\n",
              "            '<a target=\"_blank\" href=https://colab.research.google.com/notebooks/data_table.ipynb>data table notebook</a>'\n",
              "            + ' to learn more about interactive tables.';\n",
              "          element.innerHTML = '';\n",
              "          dataTable['output_type'] = 'display_data';\n",
              "          await google.colab.output.renderOutput(dataTable, element);\n",
              "          const docLink = document.createElement('div');\n",
              "          docLink.innerHTML = docLinkHtml;\n",
              "          element.appendChild(docLink);\n",
              "        }\n",
              "      </script>\n",
              "    </div>\n",
              "  </div>\n",
              "  "
            ]
          },
          "metadata": {},
          "execution_count": 141
        }
      ]
    },
    {
      "cell_type": "code",
      "source": [
        "messageSentFrequency = dfSent['To'].value_counts()\n",
        "print(messageSentFrequency)"
      ],
      "metadata": {
        "colab": {
          "base_uri": "https://localhost:8080/"
        },
        "id": "hqGLSFe-CI97",
        "outputId": "88fd12d9-98d6-43bc-898d-1a0a3f9162b2"
      },
      "execution_count": 147,
      "outputs": [
        {
          "output_type": "stream",
          "name": "stdout",
          "text": [
            "user9     141416\n",
            "user8       2033\n",
            "user5       1976\n",
            "user13      1518\n",
            "user26       569\n",
            "user17       234\n",
            "user25       191\n",
            "user10       176\n",
            "user14       119\n",
            "user21       102\n",
            "user2         99\n",
            "user11        99\n",
            "user50        98\n",
            "user15        91\n",
            "user7         67\n",
            "user12        66\n",
            "user16        62\n",
            "user49        59\n",
            "user45        49\n",
            "user24        46\n",
            "user1         25\n",
            "user23        25\n",
            "user20        23\n",
            "user30        23\n",
            "user6         13\n",
            "user35        13\n",
            "user0         12\n",
            "user22        11\n",
            "user48        11\n",
            "user42        11\n",
            "user40         9\n",
            "user39         8\n",
            "user47         8\n",
            "user19         8\n",
            "user28         7\n",
            "user3          6\n",
            "user27         5\n",
            "user41         4\n",
            "user37         3\n",
            "user34         3\n",
            "user33         3\n",
            "user44         3\n",
            "user4          2\n",
            "user29         2\n",
            "user52         2\n",
            "user38         1\n",
            "user36         1\n",
            "user43         1\n",
            "user18         1\n",
            "user46         1\n",
            "user32         1\n",
            "user31         1\n",
            "user51         1\n",
            "Name: To, dtype: int64\n"
          ]
        }
      ]
    },
    {
      "cell_type": "code",
      "source": [
        "sort = sorted(messageSentFrequency)\n",
        "names = [name for name in sort]\n",
        "plt.bar(range(len(messageSentFrequency)), sort, color='red', alpha=0.5, tick_label=names)\n",
        "plt.title('Messages sent to each user')\n",
        "plt.xlabel('Users')\n",
        "plt.xticks(rotation=90)\n",
        "plt.ylabel('Messages sent')"
      ],
      "metadata": {
        "colab": {
          "base_uri": "https://localhost:8080/",
          "height": 340
        },
        "id": "zEGCFqb_CUC0",
        "outputId": "e87af07b-9934-4158-d285-4a1c396d6b49"
      },
      "execution_count": 153,
      "outputs": [
        {
          "output_type": "execute_result",
          "data": {
            "text/plain": [
              "Text(0, 0.5, 'Messages sent')"
            ]
          },
          "metadata": {},
          "execution_count": 153
        },
        {
          "output_type": "display_data",
          "data": {
            "text/plain": [
              "<Figure size 432x288 with 1 Axes>"
            ],
            "image/png": "[encoded data removed]"
          },
          "metadata": {
            "needs_background": "light"
          }
        }
      ]
    },
    {
      "cell_type": "code",
      "source": [
        "messageSentFrequencyCleaned = dfSent['To'].loc[lambda x: x !='user9'].value_counts()\n",
        "print(messageSentFrequencyCleaned)"
      ],
      "metadata": {
        "colab": {
          "base_uri": "https://localhost:8080/"
        },
        "id": "K_1-1uHYCyMW",
        "outputId": "a528d023-a611-4f4d-e0bd-14b86bcbb2b5"
      },
      "execution_count": 150,
      "outputs": [
        {
          "output_type": "stream",
          "name": "stdout",
          "text": [
            "user8     2033\n",
            "user5     1976\n",
            "user13    1518\n",
            "user26     569\n",
            "user17     234\n",
            "user25     191\n",
            "user10     176\n",
            "user14     119\n",
            "user21     102\n",
            "user2       99\n",
            "user11      99\n",
            "user50      98\n",
            "user15      91\n",
            "user7       67\n",
            "user12      66\n",
            "user16      62\n",
            "user49      59\n",
            "user45      49\n",
            "user24      46\n",
            "user1       25\n",
            "user23      25\n",
            "user20      23\n",
            "user30      23\n",
            "user35      13\n",
            "user6       13\n",
            "user0       12\n",
            "user22      11\n",
            "user48      11\n",
            "user42      11\n",
            "user40       9\n",
            "user19       8\n",
            "user39       8\n",
            "user47       8\n",
            "user28       7\n",
            "user3        6\n",
            "user27       5\n",
            "user41       4\n",
            "user37       3\n",
            "user34       3\n",
            "user33       3\n",
            "user44       3\n",
            "user29       2\n",
            "user4        2\n",
            "user52       2\n",
            "user38       1\n",
            "user36       1\n",
            "user43       1\n",
            "user32       1\n",
            "user46       1\n",
            "user31       1\n",
            "user18       1\n",
            "user51       1\n",
            "Name: To, dtype: int64\n"
          ]
        }
      ]
    },
    {
      "cell_type": "code",
      "source": [
        "plt.bar(range(len(messageSentFrequencyCleaned)), sorted(messageSentFrequencyCleaned), color='red', alpha=0.5)\n",
        "plt.title('Messages sent to each user')\n",
        "plt.xlabel('Users')\n",
        "plt.ylabel('Messages sent')"
      ],
      "metadata": {
        "colab": {
          "base_uri": "https://localhost:8080/",
          "height": 312
        },
        "id": "7jvtaNfOC9-K",
        "outputId": "fe250cab-6613-448c-872b-3b68de9f3d7a"
      },
      "execution_count": 154,
      "outputs": [
        {
          "output_type": "execute_result",
          "data": {
            "text/plain": [
              "Text(0, 0.5, 'Messages sent')"
            ]
          },
          "metadata": {},
          "execution_count": 154
        },
        {
          "output_type": "display_data",
          "data": {
            "text/plain": [
              "<Figure size 432x288 with 1 Axes>"
            ],
            "image/png": "[encoded data removed]"
          },
          "metadata": {
            "needs_background": "light"
          }
        }
      ]
    }
  ],
  "metadata": {
    "colab": {
      "collapsed_sections": [],
      "provenance": []
    },
    "kernelspec": {
      "display_name": "Python 3",
      "name": "python3"
    }
  },
  "nbformat": 4,
  "nbformat_minor": 0
}